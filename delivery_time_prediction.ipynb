{
  "cells": [
    {
      "cell_type": "code",
      "source": [],
      "metadata": {
        "id": "vHzADHQdeaiP"
      },
      "execution_count": null,
      "outputs": []
    },
    {
      "cell_type": "markdown",
      "metadata": {
        "id": "sWyOCjY93Ks6"
      },
      "source": [
        "# New Section"
      ]
    },
    {
      "cell_type": "code",
      "execution_count": null,
      "metadata": {
        "id": "Lcpk5xZRZYXU"
      },
      "outputs": [],
      "source": [
        "import pandas as pd\n",
        "import numpy as np\n",
        "import matplotlib.pylab as plt\n",
        "import seaborn as sns"
      ]
    },
    {
      "cell_type": "code",
      "execution_count": null,
      "metadata": {
        "id": "HCq2hFEjZAtu",
        "outputId": "9a91ea99-4531-4c31-951b-4a11cdfda766",
        "colab": {
          "base_uri": "https://localhost:8080/",
          "height": 311
        }
      },
      "outputs": [
        {
          "output_type": "error",
          "ename": "FileNotFoundError",
          "evalue": "ignored",
          "traceback": [
            "\u001b[0;31m---------------------------------------------------------------------------\u001b[0m",
            "\u001b[0;31mFileNotFoundError\u001b[0m                         Traceback (most recent call last)",
            "\u001b[0;32m<ipython-input-5-36d24ac954c6>\u001b[0m in \u001b[0;36m<cell line: 1>\u001b[0;34m()\u001b[0m\n\u001b[0;32m----> 1\u001b[0;31m \u001b[0mdf\u001b[0m\u001b[0;34m=\u001b[0m\u001b[0mpd\u001b[0m\u001b[0;34m.\u001b[0m\u001b[0mread_csv\u001b[0m\u001b[0;34m(\u001b[0m\u001b[0;34m\"/content/drive/MyDrive/dataset/train_data.csv\"\u001b[0m\u001b[0;34m)\u001b[0m\u001b[0;34m\u001b[0m\u001b[0;34m\u001b[0m\u001b[0m\n\u001b[0m",
            "\u001b[0;32m/usr/local/lib/python3.9/dist-packages/pandas/util/_decorators.py\u001b[0m in \u001b[0;36mwrapper\u001b[0;34m(*args, **kwargs)\u001b[0m\n\u001b[1;32m    309\u001b[0m                     \u001b[0mstacklevel\u001b[0m\u001b[0;34m=\u001b[0m\u001b[0mstacklevel\u001b[0m\u001b[0;34m,\u001b[0m\u001b[0;34m\u001b[0m\u001b[0;34m\u001b[0m\u001b[0m\n\u001b[1;32m    310\u001b[0m                 )\n\u001b[0;32m--> 311\u001b[0;31m             \u001b[0;32mreturn\u001b[0m \u001b[0mfunc\u001b[0m\u001b[0;34m(\u001b[0m\u001b[0;34m*\u001b[0m\u001b[0margs\u001b[0m\u001b[0;34m,\u001b[0m \u001b[0;34m**\u001b[0m\u001b[0mkwargs\u001b[0m\u001b[0;34m)\u001b[0m\u001b[0;34m\u001b[0m\u001b[0;34m\u001b[0m\u001b[0m\n\u001b[0m\u001b[1;32m    312\u001b[0m \u001b[0;34m\u001b[0m\u001b[0m\n\u001b[1;32m    313\u001b[0m         \u001b[0;32mreturn\u001b[0m \u001b[0mwrapper\u001b[0m\u001b[0;34m\u001b[0m\u001b[0;34m\u001b[0m\u001b[0m\n",
            "\u001b[0;32m/usr/local/lib/python3.9/dist-packages/pandas/io/parsers/readers.py\u001b[0m in \u001b[0;36mread_csv\u001b[0;34m(filepath_or_buffer, sep, delimiter, header, names, index_col, usecols, squeeze, prefix, mangle_dupe_cols, dtype, engine, converters, true_values, false_values, skipinitialspace, skiprows, skipfooter, nrows, na_values, keep_default_na, na_filter, verbose, skip_blank_lines, parse_dates, infer_datetime_format, keep_date_col, date_parser, dayfirst, cache_dates, iterator, chunksize, compression, thousands, decimal, lineterminator, quotechar, quoting, doublequote, escapechar, comment, encoding, encoding_errors, dialect, error_bad_lines, warn_bad_lines, on_bad_lines, delim_whitespace, low_memory, memory_map, float_precision, storage_options)\u001b[0m\n\u001b[1;32m    676\u001b[0m     \u001b[0mkwds\u001b[0m\u001b[0;34m.\u001b[0m\u001b[0mupdate\u001b[0m\u001b[0;34m(\u001b[0m\u001b[0mkwds_defaults\u001b[0m\u001b[0;34m)\u001b[0m\u001b[0;34m\u001b[0m\u001b[0;34m\u001b[0m\u001b[0m\n\u001b[1;32m    677\u001b[0m \u001b[0;34m\u001b[0m\u001b[0m\n\u001b[0;32m--> 678\u001b[0;31m     \u001b[0;32mreturn\u001b[0m \u001b[0m_read\u001b[0m\u001b[0;34m(\u001b[0m\u001b[0mfilepath_or_buffer\u001b[0m\u001b[0;34m,\u001b[0m \u001b[0mkwds\u001b[0m\u001b[0;34m)\u001b[0m\u001b[0;34m\u001b[0m\u001b[0;34m\u001b[0m\u001b[0m\n\u001b[0m\u001b[1;32m    679\u001b[0m \u001b[0;34m\u001b[0m\u001b[0m\n\u001b[1;32m    680\u001b[0m \u001b[0;34m\u001b[0m\u001b[0m\n",
            "\u001b[0;32m/usr/local/lib/python3.9/dist-packages/pandas/io/parsers/readers.py\u001b[0m in \u001b[0;36m_read\u001b[0;34m(filepath_or_buffer, kwds)\u001b[0m\n\u001b[1;32m    573\u001b[0m \u001b[0;34m\u001b[0m\u001b[0m\n\u001b[1;32m    574\u001b[0m     \u001b[0;31m# Create the parser.\u001b[0m\u001b[0;34m\u001b[0m\u001b[0;34m\u001b[0m\u001b[0m\n\u001b[0;32m--> 575\u001b[0;31m     \u001b[0mparser\u001b[0m \u001b[0;34m=\u001b[0m \u001b[0mTextFileReader\u001b[0m\u001b[0;34m(\u001b[0m\u001b[0mfilepath_or_buffer\u001b[0m\u001b[0;34m,\u001b[0m \u001b[0;34m**\u001b[0m\u001b[0mkwds\u001b[0m\u001b[0;34m)\u001b[0m\u001b[0;34m\u001b[0m\u001b[0;34m\u001b[0m\u001b[0m\n\u001b[0m\u001b[1;32m    576\u001b[0m \u001b[0;34m\u001b[0m\u001b[0m\n\u001b[1;32m    577\u001b[0m     \u001b[0;32mif\u001b[0m \u001b[0mchunksize\u001b[0m \u001b[0;32mor\u001b[0m \u001b[0miterator\u001b[0m\u001b[0;34m:\u001b[0m\u001b[0;34m\u001b[0m\u001b[0;34m\u001b[0m\u001b[0m\n",
            "\u001b[0;32m/usr/local/lib/python3.9/dist-packages/pandas/io/parsers/readers.py\u001b[0m in \u001b[0;36m__init__\u001b[0;34m(self, f, engine, **kwds)\u001b[0m\n\u001b[1;32m    930\u001b[0m \u001b[0;34m\u001b[0m\u001b[0m\n\u001b[1;32m    931\u001b[0m         \u001b[0mself\u001b[0m\u001b[0;34m.\u001b[0m\u001b[0mhandles\u001b[0m\u001b[0;34m:\u001b[0m \u001b[0mIOHandles\u001b[0m \u001b[0;34m|\u001b[0m \u001b[0;32mNone\u001b[0m \u001b[0;34m=\u001b[0m \u001b[0;32mNone\u001b[0m\u001b[0;34m\u001b[0m\u001b[0;34m\u001b[0m\u001b[0m\n\u001b[0;32m--> 932\u001b[0;31m         \u001b[0mself\u001b[0m\u001b[0;34m.\u001b[0m\u001b[0m_engine\u001b[0m \u001b[0;34m=\u001b[0m \u001b[0mself\u001b[0m\u001b[0;34m.\u001b[0m\u001b[0m_make_engine\u001b[0m\u001b[0;34m(\u001b[0m\u001b[0mf\u001b[0m\u001b[0;34m,\u001b[0m \u001b[0mself\u001b[0m\u001b[0;34m.\u001b[0m\u001b[0mengine\u001b[0m\u001b[0;34m)\u001b[0m\u001b[0;34m\u001b[0m\u001b[0;34m\u001b[0m\u001b[0m\n\u001b[0m\u001b[1;32m    933\u001b[0m \u001b[0;34m\u001b[0m\u001b[0m\n\u001b[1;32m    934\u001b[0m     \u001b[0;32mdef\u001b[0m \u001b[0mclose\u001b[0m\u001b[0;34m(\u001b[0m\u001b[0mself\u001b[0m\u001b[0;34m)\u001b[0m\u001b[0;34m:\u001b[0m\u001b[0;34m\u001b[0m\u001b[0;34m\u001b[0m\u001b[0m\n",
            "\u001b[0;32m/usr/local/lib/python3.9/dist-packages/pandas/io/parsers/readers.py\u001b[0m in \u001b[0;36m_make_engine\u001b[0;34m(self, f, engine)\u001b[0m\n\u001b[1;32m   1214\u001b[0m             \u001b[0;31m# \"Union[str, PathLike[str], ReadCsvBuffer[bytes], ReadCsvBuffer[str]]\"\u001b[0m\u001b[0;34m\u001b[0m\u001b[0;34m\u001b[0m\u001b[0m\n\u001b[1;32m   1215\u001b[0m             \u001b[0;31m# , \"str\", \"bool\", \"Any\", \"Any\", \"Any\", \"Any\", \"Any\"\u001b[0m\u001b[0;34m\u001b[0m\u001b[0;34m\u001b[0m\u001b[0m\n\u001b[0;32m-> 1216\u001b[0;31m             self.handles = get_handle(  # type: ignore[call-overload]\n\u001b[0m\u001b[1;32m   1217\u001b[0m                 \u001b[0mf\u001b[0m\u001b[0;34m,\u001b[0m\u001b[0;34m\u001b[0m\u001b[0;34m\u001b[0m\u001b[0m\n\u001b[1;32m   1218\u001b[0m                 \u001b[0mmode\u001b[0m\u001b[0;34m,\u001b[0m\u001b[0;34m\u001b[0m\u001b[0;34m\u001b[0m\u001b[0m\n",
            "\u001b[0;32m/usr/local/lib/python3.9/dist-packages/pandas/io/common.py\u001b[0m in \u001b[0;36mget_handle\u001b[0;34m(path_or_buf, mode, encoding, compression, memory_map, is_text, errors, storage_options)\u001b[0m\n\u001b[1;32m    784\u001b[0m         \u001b[0;32mif\u001b[0m \u001b[0mioargs\u001b[0m\u001b[0;34m.\u001b[0m\u001b[0mencoding\u001b[0m \u001b[0;32mand\u001b[0m \u001b[0;34m\"b\"\u001b[0m \u001b[0;32mnot\u001b[0m \u001b[0;32min\u001b[0m \u001b[0mioargs\u001b[0m\u001b[0;34m.\u001b[0m\u001b[0mmode\u001b[0m\u001b[0;34m:\u001b[0m\u001b[0;34m\u001b[0m\u001b[0;34m\u001b[0m\u001b[0m\n\u001b[1;32m    785\u001b[0m             \u001b[0;31m# Encoding\u001b[0m\u001b[0;34m\u001b[0m\u001b[0;34m\u001b[0m\u001b[0m\n\u001b[0;32m--> 786\u001b[0;31m             handle = open(\n\u001b[0m\u001b[1;32m    787\u001b[0m                 \u001b[0mhandle\u001b[0m\u001b[0;34m,\u001b[0m\u001b[0;34m\u001b[0m\u001b[0;34m\u001b[0m\u001b[0m\n\u001b[1;32m    788\u001b[0m                 \u001b[0mioargs\u001b[0m\u001b[0;34m.\u001b[0m\u001b[0mmode\u001b[0m\u001b[0;34m,\u001b[0m\u001b[0;34m\u001b[0m\u001b[0;34m\u001b[0m\u001b[0m\n",
            "\u001b[0;31mFileNotFoundError\u001b[0m: [Errno 2] No such file or directory: '/content/drive/MyDrive/dataset/train_data.csv'"
          ]
        }
      ],
      "source": [
        "df=pd.read_csv(\"/content/drive/MyDrive/dataset/train_data.csv\")"
      ]
    },
    {
      "cell_type": "code",
      "execution_count": null,
      "metadata": {
        "id": "0sFSm-X8Zeez"
      },
      "outputs": [],
      "source": [
        "df.info()"
      ]
    },
    {
      "cell_type": "code",
      "execution_count": null,
      "metadata": {
        "id": "y8fQAXbfZxRw"
      },
      "outputs": [],
      "source": [
        "df.isna().sum()"
      ]
    },
    {
      "cell_type": "code",
      "execution_count": null,
      "metadata": {
        "id": "o1CeDSy9aFd1"
      },
      "outputs": [],
      "source": [
        "df=df.dropna(how=\"all\")"
      ]
    },
    {
      "cell_type": "code",
      "execution_count": null,
      "metadata": {
        "id": "YYOn-yAXc3t3"
      },
      "outputs": [],
      "source": [
        "# df.interpolate(method=\"linear\",inplace=True)\n",
        "# df2.interpolate(method=\"linear\",inplace=True)\n",
        "df=df.fillna(df.median())\n",
        "df2=df2.fillna(df2.median())"
      ]
    },
    {
      "cell_type": "code",
      "execution_count": null,
      "metadata": {
        "id": "79xskj9XdvR6"
      },
      "outputs": [],
      "source": [
        "df.isna().sum()"
      ]
    },
    {
      "cell_type": "code",
      "execution_count": null,
      "metadata": {
        "id": "C8_zybUNTizT"
      },
      "outputs": [],
      "source": [
        "df3=pd.read_csv(\"/content/drive/MyDrive/dataset/train_data.csv\")\n",
        "df3"
      ]
    },
    {
      "cell_type": "code",
      "execution_count": null,
      "metadata": {
        "id": "ctWvvCpih8fk"
      },
      "outputs": [],
      "source": [
        "df"
      ]
    },
    {
      "cell_type": "code",
      "execution_count": null,
      "metadata": {
        "id": "UkwL-D2DinUU"
      },
      "outputs": [],
      "source": [
        "uid=df2.UID"
      ]
    },
    {
      "cell_type": "code",
      "execution_count": null,
      "metadata": {
        "id": "7kJ6F5JYejg6"
      },
      "outputs": [],
      "source": [
        "df=df.drop(['UID','is_cutoff','cutoff_factor','factor', 'segment_factor'], axis=1)\n",
        "df=df.dropna()"
      ]
    },
    {
      "cell_type": "code",
      "execution_count": null,
      "metadata": {
        "id": "xhp3tSS9mgwV"
      },
      "outputs": [],
      "source": [
        "df2=df2.drop(['UID','is_cutoff','cutoff_factor','factor', 'segment_factor'], axis=1)"
      ]
    },
    {
      "cell_type": "code",
      "execution_count": null,
      "metadata": {
        "id": "ig1C90vNkl5F"
      },
      "outputs": [],
      "source": [
        "df.isna().sum().sum()\n"
      ]
    },
    {
      "cell_type": "code",
      "execution_count": null,
      "metadata": {
        "id": "VE6ZQRh7chNa"
      },
      "outputs": [],
      "source": [
        "df.columns"
      ]
    },
    {
      "cell_type": "code",
      "execution_count": null,
      "metadata": {
        "id": "OxOLOmIRfXz8"
      },
      "outputs": [],
      "source": [
        "# df.shape()"
      ]
    },
    {
      "cell_type": "code",
      "execution_count": null,
      "metadata": {
        "id": "Z-ZGcKsGHRFh"
      },
      "outputs": [],
      "source": [
        "import math\n",
        "list=[]\n",
        "import datetime\n",
        "time_trip=['od_start_time','od_end_time']\n",
        "\n",
        "# for i in time_trip:\n",
        "# for i in range(0,len(df.index)):\n",
        "for _,idx in df.iterrows():\n",
        "  col1 = idx['od_start_time']\n",
        "  col2 = idx['od_end_time']\n",
        "  # print(i[0])\n",
        "  # col1=df[time_trip[0]][i]\n",
        "  # col2=df[time_trip[1]][i]\n",
        "  # print(col1)\n",
        "  # break\n",
        "  inp1,inp2=col1.split()\n",
        "  # print(col2)\n",
        "  yy1,mon1,dd1=inp1.split('-')\n",
        "  hh1,mm1,ss1=inp2.split(\":\")\n",
        "  inp3,inp4=col2.split()\n",
        "  # print(col1)\n",
        "  yy2,mon2,dd2=inp3.split('-')\n",
        "  hh2,mm2,ss2=inp4.split(\":\")\n",
        "  ss1=math.floor(float(ss1))\n",
        "  ss2=math.floor(float(ss2))\n",
        "  time1=datetime.datetime(int(yy1),int(mon1),int(dd1),int(hh1),int(mm1),int(ss1))\n",
        "  time2=datetime.datetime(int(yy2),int(mon2),int(dd2),int(hh2),int(mm2),int(ss2))\n",
        "  tsec=(time2-time1).total_seconds()\n",
        "  # print(tsec)\n",
        "  list.append(tsec)\n",
        "  # print(tsec)\n",
        "  # break\n",
        "print(len(list))"
      ]
    },
    {
      "cell_type": "code",
      "execution_count": null,
      "metadata": {
        "id": "MQBBkOb4HRQ-"
      },
      "outputs": [],
      "source": [
        "df['time_diff']=list\n",
        "df"
      ]
    },
    {
      "cell_type": "code",
      "execution_count": null,
      "metadata": {
        "id": "hM8tUOVBI9qW"
      },
      "outputs": [],
      "source": [
        "import math\n",
        "list2=[]\n",
        "import datetime\n",
        "time2=['trip_creation_time','cutoff_timestamp']\n",
        "\n",
        "# for i in time2:\n",
        "# for i in range(0,len(df.index)):\n",
        "for _,idx in df.iterrows():\n",
        "  col1 = idx['trip_creation_time']\n",
        "  col2 = idx['cutoff_timestamp']\n",
        "  # print(i[0])\n",
        "  # col1=df[time2[0]][i]\n",
        "  # col2=df[time2[1]][i]\n",
        "  # print(col1)\n",
        "  # break\n",
        "  inp1,inp2=col1.split()\n",
        "  # print(col2)\n",
        "  yy1,mon1,dd1=inp1.split('-')\n",
        "  hh1,mm1,ss1=inp2.split(\":\")\n",
        "  inp3,inp4=col2.split()\n",
        "  # print(col1)\n",
        "  yy2,mon2,dd2=inp3.split('-')\n",
        "  hh2,mm2,ss2=inp4.split(\":\")\n",
        "  ss1=math.floor(float(ss1))\n",
        "  ss2=math.floor(float(ss2))\n",
        "  time1=datetime.datetime(int(yy1),int(mon1),int(dd1),int(hh1),int(mm1),int(ss1))\n",
        "  time2=datetime.datetime(int(yy2),int(mon2),int(dd2),int(hh2),int(mm2),int(ss2))\n",
        "  tsec=(time2-time1).total_seconds()\n",
        "  # print(tsec)\n",
        "  list2.append(tsec)\n",
        "  # print(tsec)\n",
        "  # break\n",
        "print(len(list2))"
      ]
    },
    {
      "cell_type": "code",
      "execution_count": null,
      "metadata": {
        "id": "MNv3EB7vJBb4"
      },
      "outputs": [],
      "source": [
        "df['time_diff2']=list2"
      ]
    },
    {
      "cell_type": "code",
      "execution_count": null,
      "metadata": {
        "id": "2mN9p0o3mqvB"
      },
      "outputs": [],
      "source": [
        "import math\n",
        "lst=[]\n",
        "import datetime\n",
        "time_trip=['od_start_time','od_end_time']\n",
        "\n",
        "# for i in time_trip:\n",
        "# for i in range(0,len(df.index)):\n",
        "for _,idx in df2.iterrows():\n",
        "  col1 = idx['od_start_time']\n",
        "  col2 = idx['od_end_time']\n",
        "  # print(i[0])\n",
        "  # col1=df[time_trip[0]][i]\n",
        "  # col2=df[time_trip[1]][i]\n",
        "  # print(col1)\n",
        "  # break\n",
        "  inp1,inp2=col1.split()\n",
        "  # print(col2)\n",
        "  yy1,mon1,dd1=inp1.split('-')\n",
        "  hh1,mm1,ss1=inp2.split(\":\")\n",
        "  inp3,inp4=col2.split()\n",
        "  # print(col1)\n",
        "  yy2,mon2,dd2=inp3.split('-')\n",
        "  hh2,mm2,ss2=inp4.split(\":\")\n",
        "  ss1=math.floor(float(ss1))\n",
        "  ss2=math.floor(float(ss2))\n",
        "  time1=datetime.datetime(int(yy1),int(mon1),int(dd1),int(hh1),int(mm1),int(ss1))\n",
        "  time2=datetime.datetime(int(yy2),int(mon2),int(dd2),int(hh2),int(mm2),int(ss2))\n",
        "  tsec=(time2-time1).total_seconds()\n",
        "  # print(tsec)\n",
        "  lst.append(tsec)\n",
        "  # print(tsec)\n",
        "  # break\n",
        "print(len(lst))"
      ]
    },
    {
      "cell_type": "code",
      "execution_count": null,
      "metadata": {
        "id": "kk8Bqzfzm89R"
      },
      "outputs": [],
      "source": [
        "df2['time_diff']=lst"
      ]
    },
    {
      "cell_type": "code",
      "execution_count": null,
      "metadata": {
        "id": "ySeEu-yiJWwp"
      },
      "outputs": [],
      "source": [
        "import math\n",
        "lst2=[]\n",
        "import datetime\n",
        "time2=['trip_creation_time','cutoff_timestamp']\n",
        "\n",
        "# for i in time2:\n",
        "# for i in range(0,len(df.index)):\n",
        "for _,idx in df2.iterrows():\n",
        "  col1 = idx['trip_creation_time']\n",
        "  col2 = idx['cutoff_timestamp']\n",
        "  # print(i[0])\n",
        "  # col1=df[time2[0]][i]\n",
        "  # col2=df[time2[1]][i]\n",
        "  # print(col1)\n",
        "  # break\n",
        "  inp1,inp2=col1.split()\n",
        "  # print(col2)\n",
        "  yy1,mon1,dd1=inp1.split('-')\n",
        "  hh1,mm1,ss1=inp2.split(\":\")\n",
        "  inp3,inp4=col2.split()\n",
        "  # print(col1)\n",
        "  yy2,mon2,dd2=inp3.split('-')\n",
        "  hh2,mm2,ss2=inp4.split(\":\")\n",
        "  ss1=math.floor(float(ss1))\n",
        "  ss2=math.floor(float(ss2))\n",
        "  time1=datetime.datetime(int(yy1),int(mon1),int(dd1),int(hh1),int(mm1),int(ss1))\n",
        "  time2=datetime.datetime(int(yy2),int(mon2),int(dd2),int(hh2),int(mm2),int(ss2))\n",
        "  tsec=(time2-time1).total_seconds()\n",
        "  # print(tsec)\n",
        "  lst2.append(tsec)\n",
        "  # print(tsec)\n",
        "  # break\n",
        "print(len(lst2))"
      ]
    },
    {
      "cell_type": "code",
      "execution_count": null,
      "metadata": {
        "id": "yL8OXPOsJdMh"
      },
      "outputs": [],
      "source": [
        "df2['time_diff2']=lst2"
      ]
    },
    {
      "cell_type": "code",
      "execution_count": null,
      "metadata": {
        "id": "GgL2_NF3iYUv"
      },
      "outputs": [],
      "source": [
        "# for i in range(0,21):\n",
        "#   df[i].nunique()\n",
        "df.nunique(axis=0)"
      ]
    },
    {
      "cell_type": "code",
      "execution_count": null,
      "metadata": {
        "id": "uEZ5aMedKExE"
      },
      "outputs": [],
      "source": [
        "df=df.drop(['od_start_time','od_end_time','trip_creation_time','cutoff_timestamp'],axis=1)\n",
        "df2=df2.drop(['od_start_time','od_end_time','trip_creation_time','cutoff_timestamp'],axis=1)"
      ]
    },
    {
      "cell_type": "code",
      "execution_count": null,
      "metadata": {
        "id": "Tmux8YtYfvL8"
      },
      "outputs": [],
      "source": [
        "from sklearn.preprocessing import LabelEncoder\n",
        "labelencoder = LabelEncoder()\n",
        "# Assigning numerical values and storing in another column\n",
        "list=['route_type', 'source_name','destination_name','source_center','destination_center']\n",
        "for i in list:\n",
        "  df[i]=labelencoder.fit_transform(df[i])\n",
        "  df2[i]=labelencoder.fit_transform(df2[i])"
      ]
    },
    {
      "cell_type": "code",
      "execution_count": null,
      "metadata": {
        "id": "LIjsLLoG6wDC"
      },
      "outputs": [],
      "source": [
        "# Importing\n",
        "import sklearn"
      ]
    },
    {
      "cell_type": "code",
      "execution_count": null,
      "metadata": {
        "id": "YYdPPTJ0Cr2S"
      },
      "outputs": [],
      "source": [
        "upper_array=[]\n",
        "lower_array=[]"
      ]
    },
    {
      "cell_type": "code",
      "execution_count": null,
      "metadata": {
        "id": "FDNHfaCPE5HB"
      },
      "outputs": [],
      "source": [
        "upper_array"
      ]
    },
    {
      "cell_type": "code",
      "execution_count": null,
      "metadata": {
        "id": "TRcy__uL8L5H"
      },
      "outputs": [],
      "source": [
        "# print(len(col))"
      ]
    },
    {
      "cell_type": "code",
      "execution_count": null,
      "metadata": {
        "id": "rsbAwG7P4Ad1"
      },
      "outputs": [],
      "source": [
        "col=df.columns\n",
        "for i in range(len(col)):\n",
        "  print(type(df.iloc[0,i]))"
      ]
    },
    {
      "cell_type": "code",
      "execution_count": null,
      "metadata": {
        "id": "SXP-y-TW5axV"
      },
      "outputs": [],
      "source": [
        "labelencoder = LabelEncoder()\n",
        "# Assigning numerical values and storing in another column\n",
        "list=['trip_uuid','route_schedule_uuid']\n",
        "for i in list:\n",
        "  df[i]=labelencoder.fit_transform(df[i])\n",
        "  df2[i]=labelencoder.fit_transform(df2[i])"
      ]
    },
    {
      "cell_type": "code",
      "execution_count": null,
      "metadata": {
        "id": "zI41fwMhadA1"
      },
      "outputs": [],
      "source": [
        "X = df.drop(['actual_time'],axis=1)  #Feature Matrix\n",
        "y = df[\"actual_time\"]\n",
        "X"
      ]
    },
    {
      "cell_type": "code",
      "execution_count": null,
      "metadata": {
        "id": "S3orbtq180lh"
      },
      "outputs": [],
      "source": [
        "import numpy as np\n",
        "# for i in range()\n",
        "# # X=X.to_numpy()\n",
        "# y=y.to_numpy()"
      ]
    },
    {
      "cell_type": "code",
      "execution_count": null,
      "metadata": {
        "id": "dhQLjdJJaNAi"
      },
      "outputs": [],
      "source": [
        "# separate dataset into train and test\n",
        "from sklearn.model_selection import train_test_split\n",
        "X_train, X_val, y_train, y_val = train_test_split(\n",
        "    X,\n",
        "    y,\n",
        "    test_size=0.3,\n",
        "    random_state=0)\n",
        "\n",
        "X_train.shape, X_val.shape, y_train.shape, y_val.shapea"
      ]
    },
    {
      "cell_type": "code",
      "execution_count": null,
      "metadata": {
        "id": "TpTMrWxq93N-"
      },
      "outputs": [],
      "source": [
        "import seaborn as sn\n",
        "fig, ax = plt.subplots(figsize = (12, 7))\n",
        "corr = X_train.corr()\n",
        "sn.heatmap(corr, annot = True)\n"
      ]
    },
    {
      "cell_type": "code",
      "execution_count": null,
      "metadata": {
        "id": "f8t9QmDwYpaY"
      },
      "outputs": [],
      "source": [
        "def correlation(dataset, threshold):\n",
        "    col_corr = []  # Set of all the names of correlated columns\n",
        "    corr_matrix = dataset.corr()\n",
        "    for i in range(len(corr_matrix.columns)):\n",
        "        for j in range(i):\n",
        "            if abs(corr_matrix.iloc[i, j]) > threshold: # we are interested in absolute coeff value\n",
        "                colname = corr_matrix.columns[i]  # getting the name of column\n",
        "                col_corr.append(colname)\n",
        "    return col_corr"
      ]
    },
    {
      "cell_type": "code",
      "execution_count": null,
      "metadata": {
        "id": "pLR_9uq0Yl4s"
      },
      "outputs": [],
      "source": [
        "# corr_features = correlation(X_train, 0.7)\n",
        "# corr_features"
      ]
    },
    {
      "cell_type": "code",
      "execution_count": null,
      "metadata": {
        "id": "ovxyMg62nz0W"
      },
      "outputs": [],
      "source": [
        "X_test = df2"
      ]
    },
    {
      "cell_type": "code",
      "execution_count": null,
      "metadata": {
        "id": "JTOJajjwTJzj"
      },
      "outputs": [],
      "source": [
        "import warnings\n",
        "warnings.filterwarnings('ignore')\n",
        "import numpy as np\n",
        "import pandas as pd\n",
        "from datetime import datetime\n",
        "from sklearn.model_selection import RandomizedSearchCV, GridSearchCV\n",
        "from sklearn.metrics import roc_auc_score\n",
        "from sklearn.model_selection import StratifiedKFold\n",
        "from xgboost import XGBRegressor"
      ]
    },
    {
      "cell_type": "code",
      "execution_count": null,
      "metadata": {
        "id": "hS_vqTLtTPn4"
      },
      "outputs": [],
      "source": [
        "params = {\n",
        "        'min_child_weight': [1, 5, 10],\n",
        "        'gamma': [0.5, 1, 1.5, 2, 5],\n",
        "        'subsample': [0.6, 0.8, 1.0],\n",
        "        'colsample_bytree': [0.6, 0.8, 1.0],\n",
        "        'max_depth': [3, 4, 5]\n",
        "        }"
      ]
    },
    {
      "cell_type": "code",
      "execution_count": null,
      "metadata": {
        "id": "4D5xheqHTUCl"
      },
      "outputs": [],
      "source": [
        "xgb = XGBRegressor(learning_rate=0.02, n_estimators=600,\n",
        "                    silent=True, nthread=1)"
      ]
    },
    {
      "cell_type": "code",
      "execution_count": null,
      "metadata": {
        "id": "M1PK8rY6Tb1i"
      },
      "outputs": [],
      "source": [
        "folds = 3\n",
        "param_comb = 5\n",
        "\n",
        "skf = StratifiedKFold(n_splits=folds, shuffle = True, random_state = 1001)\n",
        "model = RandomizedSearchCV(xgb, param_distributions=params, n_iter=param_comb, scoring='neg_mean_squared_error', n_jobs=4, cv=skf.split(X_train,y_train), verbose=3, random_state=1001 )"
      ]
    },
    {
      "cell_type": "code",
      "execution_count": null,
      "metadata": {
        "id": "AY4WoVaDT4nT"
      },
      "outputs": [],
      "source": [
        "import sklearn"
      ]
    },
    {
      "cell_type": "code",
      "execution_count": null,
      "metadata": {
        "id": "8KQV0yHJT0o3"
      },
      "outputs": [],
      "source": [
        "sklearn.metrics.get_scorer_names()"
      ]
    },
    {
      "cell_type": "code",
      "execution_count": null,
      "metadata": {
        "id": "tYWFZqcyTsDm"
      },
      "outputs": [],
      "source": [
        "model.fit(X_train,y_train)"
      ]
    },
    {
      "cell_type": "code",
      "execution_count": null,
      "metadata": {
        "id": "QiVNuOjjZgCe"
      },
      "outputs": [],
      "source": [
        "# X_train.drop(corr_features, axis=1,inplace=True)\n",
        "# X_test.drop(corr_features, axis=1,inplace=True)\n"
      ]
    },
    {
      "cell_type": "code",
      "execution_count": null,
      "metadata": {
        "id": "S8i_nE8JoR-D"
      },
      "outputs": [],
      "source": [
        "# X_val.drop(corr_features, axis=1,inplace=True)"
      ]
    },
    {
      "cell_type": "code",
      "execution_count": null,
      "metadata": {
        "id": "SlMMMFEU0tHS"
      },
      "outputs": [],
      "source": [
        "X.columns"
      ]
    },
    {
      "cell_type": "code",
      "execution_count": null,
      "metadata": {
        "id": "sHoxN6Ei7f5y"
      },
      "outputs": [],
      "source": [
        "X_train.shape, y_train.shape"
      ]
    },
    {
      "cell_type": "code",
      "execution_count": null,
      "metadata": {
        "id": "4Pwo5dLb-eu2"
      },
      "outputs": [],
      "source": []
    },
    {
      "cell_type": "code",
      "execution_count": null,
      "metadata": {
        "id": "WP9-g9BlM6kD"
      },
      "outputs": [],
      "source": [
        "# df.shape"
      ]
    },
    {
      "cell_type": "code",
      "execution_count": null,
      "metadata": {
        "id": "4boaHsIoZIsM"
      },
      "outputs": [],
      "source": [
        "df"
      ]
    },
    {
      "cell_type": "code",
      "execution_count": null,
      "metadata": {
        "id": "z3wm8AFfdq3t"
      },
      "outputs": [],
      "source": [
        "from sklearn.preprocessing import StandardScaler\n",
        "\n",
        "scaler = StandardScaler()\n",
        "X_train = scaler.fit_transform(X_train)\n",
        "X_val = scaler.fit_transform(X_val)\n",
        "X_test = scaler.fit_transform(X_test)"
      ]
    },
    {
      "cell_type": "code",
      "execution_count": null,
      "metadata": {
        "id": "Vdo74JzooeY9"
      },
      "outputs": [],
      "source": [
        "from sklearn.linear_model import LinearRegression"
      ]
    },
    {
      "cell_type": "code",
      "execution_count": null,
      "metadata": {
        "id": "up7QshEpLXH_"
      },
      "outputs": [],
      "source": [
        "import xgboost as xgb"
      ]
    },
    {
      "cell_type": "code",
      "execution_count": null,
      "metadata": {
        "id": "XVX2N1KrLzU4"
      },
      "outputs": [],
      "source": [
        "dtrain_reg = xgb.DMatrix(X_train, y_train, enable_categorical=True)"
      ]
    },
    {
      "cell_type": "code",
      "execution_count": null,
      "metadata": {
        "id": "ycbP5c9xL5AG"
      },
      "outputs": [],
      "source": [
        "params = {\"objective\": \"reg:squarederror\", \"tree_method\": \"gpu_hist\"}"
      ]
    },
    {
      "cell_type": "code",
      "execution_count": null,
      "metadata": {
        "id": "m2fJwZr5L8EO"
      },
      "outputs": [],
      "source": [
        "params = {\"objective\": \"reg:squarederror\"}\n",
        "\n",
        "\n",
        "\n",
        "\n",
        "n = 80\n",
        "\n",
        "model = xgb.train(\n",
        "\n",
        "   params=params,\n",
        "\n",
        "   dtrain=dtrain_reg,\n",
        "\n",
        "   num_boost_round=n,\n",
        "\n",
        ")"
      ]
    },
    {
      "cell_type": "code",
      "execution_count": null,
      "metadata": {
        "id": "MQV64c0wMG5v"
      },
      "outputs": [],
      "source": []
    },
    {
      "cell_type": "code",
      "execution_count": null,
      "metadata": {
        "id": "7Yvc9RXo-Xg2"
      },
      "outputs": [],
      "source": [
        "# from sklearn"
      ]
    },
    {
      "cell_type": "code",
      "execution_count": null,
      "metadata": {
        "id": "bcj8XXFwolCH"
      },
      "outputs": [],
      "source": [
        "\n",
        "model.fit(X_train,y_train)"
      ]
    },
    {
      "cell_type": "code",
      "execution_count": null,
      "metadata": {
        "id": "Taj5Vsz3MLSU"
      },
      "outputs": [],
      "source": []
    },
    {
      "cell_type": "code",
      "execution_count": null,
      "metadata": {
        "id": "Fq2-egEWMdxd"
      },
      "outputs": [],
      "source": [
        "X_val_final = np.asarray(X_val)"
      ]
    },
    {
      "cell_type": "code",
      "execution_count": null,
      "metadata": {
        "id": "AVdgXo6bMnOV"
      },
      "outputs": [],
      "source": [
        "X_val_final = xgb.DMatrix(X_val)"
      ]
    },
    {
      "cell_type": "code",
      "execution_count": null,
      "metadata": {
        "id": "gOQBK_UuMPzy"
      },
      "outputs": [],
      "source": [
        "y_val_final = model.predict(X_val)"
      ]
    },
    {
      "cell_type": "code",
      "execution_count": null,
      "metadata": {
        "id": "D8GvmXVQHd3T"
      },
      "outputs": [],
      "source": []
    },
    {
      "cell_type": "code",
      "execution_count": null,
      "metadata": {
        "id": "dkRkxyDvouDH"
      },
      "outputs": [],
      "source": [
        "from sklearn.metrics import mean_squared_error"
      ]
    },
    {
      "cell_type": "code",
      "execution_count": null,
      "metadata": {
        "id": "g0iP54idpPt8"
      },
      "outputs": [],
      "source": [
        "y_predicted = model.predict(X_val)"
      ]
    },
    {
      "cell_type": "code",
      "execution_count": null,
      "metadata": {
        "id": "GJD79fBYryel"
      },
      "outputs": [],
      "source": [
        "print(mean_squared_error(y_val,y_val_final))"
      ]
    },
    {
      "cell_type": "code",
      "execution_count": null,
      "metadata": {
        "id": "LhGEzFxgpr70"
      },
      "outputs": [],
      "source": []
    },
    {
      "cell_type": "code",
      "execution_count": null,
      "metadata": {
        "id": "9AhSx2JWrwUF"
      },
      "outputs": [],
      "source": []
    },
    {
      "cell_type": "code",
      "execution_count": null,
      "metadata": {
        "id": "Ie2bli83rpGN"
      },
      "outputs": [],
      "source": [
        "X_test2 = xgb.DMatrix(X_test)"
      ]
    },
    {
      "cell_type": "code",
      "execution_count": null,
      "metadata": {
        "id": "S1TXyOnip4jI"
      },
      "outputs": [],
      "source": [
        "y_predcn = model.predict(X_test)"
      ]
    },
    {
      "cell_type": "code",
      "execution_count": null,
      "metadata": {
        "id": "ILHPLj_mqEAr"
      },
      "outputs": [],
      "source": [
        "y_predcn = pd.DataFrame(y_predcn)"
      ]
    },
    {
      "cell_type": "code",
      "execution_count": null,
      "metadata": {
        "id": "UXe20A6VtZC7"
      },
      "outputs": [],
      "source": []
    },
    {
      "cell_type": "code",
      "execution_count": null,
      "metadata": {
        "id": "W-eEHzb1teHu"
      },
      "outputs": [],
      "source": [
        "# print(mean_squared_error(y_test, y_pred))"
      ]
    },
    {
      "cell_type": "code",
      "execution_count": null,
      "metadata": {
        "id": "hHa78LYIqKeN"
      },
      "outputs": [],
      "source": [
        "y_predcn.to_csv('prediction12.csv')"
      ]
    },
    {
      "cell_type": "code",
      "execution_count": null,
      "metadata": {
        "id": "ipjYFcddNJXI"
      },
      "outputs": [],
      "source": []
    },
    {
      "cell_type": "code",
      "execution_count": null,
      "metadata": {
        "id": "dUQKBc5lpU03"
      },
      "outputs": [],
      "source": [
        "# print(mean_squared_error(y_train,y_pred_val))"
      ]
    },
    {
      "cell_type": "code",
      "execution_count": null,
      "metadata": {
        "id": "QoUJTKoHjP0U"
      },
      "outputs": [],
      "source": [
        "X_train"
      ]
    },
    {
      "cell_type": "code",
      "execution_count": null,
      "metadata": {
        "id": "ma_B6FGqQTho"
      },
      "outputs": [],
      "source": []
    }
  ],
  "metadata": {
    "colab": {
      "provenance": [],
      "toc_visible": true
    },
    "kernelspec": {
      "display_name": "Python 3",
      "name": "python3"
    },
    "language_info": {
      "name": "python"
    }
  },
  "nbformat": 4,
  "nbformat_minor": 0
}